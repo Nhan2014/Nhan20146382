{
  "nbformat": 4,
  "nbformat_minor": 0,
  "metadata": {
    "colab": {
      "provenance": [],
      "authorship_tag": "ABX9TyOMHbzaRMGcy6i19LF454dm",
      "include_colab_link": true
    },
    "kernelspec": {
      "name": "python3",
      "display_name": "Python 3"
    },
    "language_info": {
      "name": "python"
    },
    "gpuClass": "standard"
  },
  "cells": [
    {
      "cell_type": "markdown",
      "metadata": {
        "id": "view-in-github",
        "colab_type": "text"
      },
      "source": [
        "<a href=\"https://colab.research.google.com/github/TruongThanhNhan20146382/Nhan20146382/blob/main/AI_W11_14_4_23_fashion_mnist.ipynb\" target=\"_parent\"><img src=\"https://colab.research.google.com/assets/colab-badge.svg\" alt=\"Open In Colab\"/></a>"
      ]
    },
    {
      "cell_type": "code",
      "execution_count": null,
      "metadata": {
        "id": "aneWMKNWZ42v"
      },
      "outputs": [],
      "source": [
        "from keras.datasets import fashion_mnist\n",
        "(x_train,y_train), (x_test, y_test)=fashion_mnist.load_data()"
      ]
    },
    {
      "cell_type": "code",
      "source": [
        "x_train.shape"
      ],
      "metadata": {
        "colab": {
          "base_uri": "https://localhost:8080/"
        },
        "id": "BSX0lv0WaOiV",
        "outputId": "02db8fba-2524-4b57-ed8c-ec8cac6a8dd6"
      },
      "execution_count": null,
      "outputs": [
        {
          "output_type": "execute_result",
          "data": {
            "text/plain": [
              "(60000, 28, 28)"
            ]
          },
          "metadata": {},
          "execution_count": 12
        }
      ]
    },
    {
      "cell_type": "code",
      "source": [
        "x_train=x_train.reshape(60000,28,28,1)\n",
        "x_train=x_train.astype('float32')/255\n",
        "x_test=x_test.reshape(10000,28,28,1)\n",
        "x_test=x_test.astype('float32')/255\n",
        "from keras.utils import to_categorical\n",
        "y_train = to_categorical(y_train,10)\n",
        "y_test=to_categorical(y_test,10)"
      ],
      "metadata": {
        "id": "WfU1RMUzbOoo"
      },
      "execution_count": null,
      "outputs": []
    },
    {
      "cell_type": "code",
      "source": [
        "from keras.models import Sequential, Model\n",
        "from keras.layers import Dense,Dropout, Flatten,Conv2D, MaxPooling2D, Normalization, LeakyReLU\n",
        "from keras.optimizers import Adam\n",
        "\n",
        "model=Sequential()\n",
        "model.add(Conv2D(32,kernel_size=(3,3),activation='linear',input_shape=(28,28,1),padding='same'))\n",
        "model.add(LeakyReLU(alpha=0.1))\n",
        "model.add(MaxPooling2D((2,2),padding='same'))\n",
        "\n",
        "model.add(Conv2D(64,kernel_size=(3,3),activation='linear',input_shape=(28,28,1),padding='same'))\n",
        "model.add(LeakyReLU(alpha=0.1))\n",
        "model.add(MaxPooling2D((2,2),padding='same'))\n",
        "\n",
        "model.add(Conv2D(128,kernel_size=(3,3),activation='linear',input_shape=(28,28,1),padding='same'))\n",
        "model.add(LeakyReLU(alpha=0.1))\n",
        "model.add(MaxPooling2D((2,2),padding='same'))\n",
        "\n",
        "model.add(Flatten())\n",
        "model.add(Dense(128,activation='linear'))\n",
        "model.add(LeakyReLU(alpha=0.1))\n",
        "model.add(Dense(10,activation='Softmax'))"
      ],
      "metadata": {
        "id": "k3r2ss3Mb6BN"
      },
      "execution_count": null,
      "outputs": []
    },
    {
      "cell_type": "code",
      "source": [
        "from keras.losses import categorical_crossentropy\n",
        "model.compile(loss=categorical_crossentropy,optimizer=Adam(),metrics=['accuracy'])\n"
      ],
      "metadata": {
        "id": "1IivpkUNfIfb"
      },
      "execution_count": null,
      "outputs": []
    },
    {
      "cell_type": "code",
      "source": [
        "train=model.fit(x_train, y_train, batch_size=64, epochs=20, verbose=1)"
      ],
      "metadata": {
        "colab": {
          "base_uri": "https://localhost:8080/"
        },
        "id": "J5_XlDUUiJ6q",
        "outputId": "30bc90ec-246f-46e5-e4d5-f29ed57b8e21"
      },
      "execution_count": null,
      "outputs": [
        {
          "output_type": "stream",
          "name": "stdout",
          "text": [
            "Epoch 1/20\n",
            "938/938 [==============================] - 4s 4ms/step - loss: 0.4384 - accuracy: 0.8392\n",
            "Epoch 2/20\n",
            "938/938 [==============================] - 4s 5ms/step - loss: 0.2750 - accuracy: 0.8979\n",
            "Epoch 3/20\n",
            "938/938 [==============================] - 4s 4ms/step - loss: 0.2295 - accuracy: 0.9166\n",
            "Epoch 4/20\n",
            "938/938 [==============================] - 4s 4ms/step - loss: 0.1992 - accuracy: 0.9267\n",
            "Epoch 5/20\n",
            "938/938 [==============================] - 4s 5ms/step - loss: 0.1748 - accuracy: 0.9347\n",
            "Epoch 6/20\n",
            "938/938 [==============================] - 4s 4ms/step - loss: 0.1525 - accuracy: 0.9427\n",
            "Epoch 7/20\n",
            "938/938 [==============================] - 4s 4ms/step - loss: 0.1310 - accuracy: 0.9516\n",
            "Epoch 8/20\n",
            "938/938 [==============================] - 4s 5ms/step - loss: 0.1135 - accuracy: 0.9573\n",
            "Epoch 9/20\n",
            "938/938 [==============================] - 4s 4ms/step - loss: 0.0962 - accuracy: 0.9646\n",
            "Epoch 10/20\n",
            "938/938 [==============================] - 4s 4ms/step - loss: 0.0836 - accuracy: 0.9685\n",
            "Epoch 11/20\n",
            "938/938 [==============================] - 5s 5ms/step - loss: 0.0703 - accuracy: 0.9733\n",
            "Epoch 12/20\n",
            "938/938 [==============================] - 4s 4ms/step - loss: 0.0605 - accuracy: 0.9774\n",
            "Epoch 13/20\n",
            "938/938 [==============================] - 4s 4ms/step - loss: 0.0552 - accuracy: 0.9796\n",
            "Epoch 14/20\n",
            "938/938 [==============================] - 5s 6ms/step - loss: 0.0473 - accuracy: 0.9823\n",
            "Epoch 15/20\n",
            "938/938 [==============================] - 4s 4ms/step - loss: 0.0427 - accuracy: 0.9841\n",
            "Epoch 16/20\n",
            "938/938 [==============================] - 4s 4ms/step - loss: 0.0381 - accuracy: 0.9857\n",
            "Epoch 17/20\n",
            "938/938 [==============================] - 4s 5ms/step - loss: 0.0384 - accuracy: 0.9859\n",
            "Epoch 18/20\n",
            "938/938 [==============================] - 4s 4ms/step - loss: 0.0337 - accuracy: 0.9878\n",
            "Epoch 19/20\n",
            "938/938 [==============================] - 4s 4ms/step - loss: 0.0310 - accuracy: 0.9885\n",
            "Epoch 20/20\n",
            "938/938 [==============================] - 5s 5ms/step - loss: 0.0321 - accuracy: 0.9886\n"
          ]
        }
      ]
    },
    {
      "cell_type": "code",
      "source": [
        "import matplotlib.pyplot as plt\n",
        "test=model.evaluate(x_test,y_test,verbose=0)\n",
        "print('Test loss:',test[0])\n",
        "print('Test accuracy:',test[1])\n",
        "accuracy=train.history['accuracy']\n",
        "loss=train.history['loss']\n",
        "epochs=range(len(accuracy))\n",
        "plt.plot(epochs,accuracy,'bo',label='Training accuracy')\n",
        "plt.plot(epochs,loss,'b', label='Training loss')\n",
        "plt.legend()\n",
        "plt.show()"
      ],
      "metadata": {
        "colab": {
          "base_uri": "https://localhost:8080/",
          "height": 465
        },
        "id": "sAwbva08jWVT",
        "outputId": "e3f1512c-fd36-42af-f60e-656ccc6585ce"
      },
      "execution_count": null,
      "outputs": [
        {
          "output_type": "stream",
          "name": "stdout",
          "text": [
            "Test loss: 0.5090348124504089\n",
            "Test accuracy: 0.9135000109672546\n"
          ]
        },
        {
          "output_type": "display_data",
          "data": {
            "text/plain": [
              "<Figure size 640x480 with 1 Axes>"
            ],
            "image/png": "[encoded data removed]"
          },
          "metadata": {}
        }
      ]
    },
    {
      "cell_type": "code",
      "source": [],
      "metadata": {
        "id": "rL8bsAiFmuyM"
      },
      "execution_count": null,
      "outputs": []
    }
  ]
}