{
  "nbformat": 4,
  "nbformat_minor": 0,
  "metadata": {
    "colab": {
      "provenance": [],
      "authorship_tag": "ABX9TyPJDEcq6jkg4pG0igiuAbRD",
      "include_colab_link": true
    },
    "kernelspec": {
      "name": "python3",
      "display_name": "Python 3"
    },
    "language_info": {
      "name": "python"
    }
  },
  "cells": [
    {
      "cell_type": "markdown",
      "metadata": {
        "id": "view-in-github",
        "colab_type": "text"
      },
      "source": [
        "<a href=\"https://colab.research.google.com/github/Nhan2014/Nhan20146382/blob/main/AI_W6_10_3_2023.ipynb\" target=\"_parent\"><img src=\"https://colab.research.google.com/assets/colab-badge.svg\" alt=\"Open In Colab\"/></a>"
      ]
    },
    {
      "cell_type": "code",
      "execution_count": null,
      "metadata": {
        "colab": {
          "base_uri": "https://localhost:8080/"
        },
        "id": "bVjKDsl-0wKK",
        "outputId": "5f09ee99-abaf-4cf5-96c5-c88d6508ff0c"
      },
      "outputs": [
        {
          "output_type": "stream",
          "name": "stdout",
          "text": [
            "Looking in indexes: https://pypi.org/simple, https://us-python.pkg.dev/colab-wheels/public/simple/\n",
            "Collecting scikit-fuzzy\n",
            "  Downloading scikit-fuzzy-0.4.2.tar.gz (993 kB)\n",
            "\u001b[2K     \u001b[90m━━━━━━━━━━━━━━━━━━━━━━━━━━━━━━━━━━━━━━\u001b[0m \u001b[32m994.0/994.0 KB\u001b[0m \u001b[31m21.1 MB/s\u001b[0m eta \u001b[36m0:00:00\u001b[0m\n",
            "\u001b[?25h  Preparing metadata (setup.py) ... \u001b[?25l\u001b[?25hdone\n",
            "Requirement already satisfied: numpy>=1.6.0 in /usr/local/lib/python3.9/dist-packages (from scikit-fuzzy) (1.22.4)\n",
            "Requirement already satisfied: scipy>=0.9.0 in /usr/local/lib/python3.9/dist-packages (from scikit-fuzzy) (1.10.1)\n",
            "Requirement already satisfied: networkx>=1.9.0 in /usr/local/lib/python3.9/dist-packages (from scikit-fuzzy) (3.0)\n",
            "Building wheels for collected packages: scikit-fuzzy\n",
            "  Building wheel for scikit-fuzzy (setup.py) ... \u001b[?25l\u001b[?25hdone\n",
            "  Created wheel for scikit-fuzzy: filename=scikit_fuzzy-0.4.2-py3-none-any.whl size=894088 sha256=bfefa6a0ece6aeb7469476d630f2827d79503353f8c399e0ca43fb6e1ac926ef\n",
            "  Stored in directory: /root/.cache/pip/wheels/32/2c/a1/a90a7d7dd8448ec029f298a61f3490275e99b17aa348be675c\n",
            "Successfully built scikit-fuzzy\n",
            "Installing collected packages: scikit-fuzzy\n",
            "Successfully installed scikit-fuzzy-0.4.2\n"
          ]
        }
      ],
      "source": [
        "pip install scikit-fuzzy\n"
      ]
    },
    {
      "cell_type": "code",
      "source": [
        "import numpy as np\n",
        "import skfuzzy as fuzz\n",
        "import matplotlib.pyplot as plt\n",
        "from skfuzzy import control as ctrl"
      ],
      "metadata": {
        "id": "_LMYAYVp1wUU"
      },
      "execution_count": null,
      "outputs": []
    },
    {
      "cell_type": "code",
      "source": [
        "sp= ctrl.Antecedent(np.arange(18,27,1),'sp')\n",
        "val_sensor=ctrl.Antecedent(np.arange(-5,105,1),'val_sensor')\n",
        "pwm=ctrl.Consequent(np.arange(0,255,1),'pwm')\n",
        "#hz=ctrl.Consequent(np.arange(0,60,1),'hz')\n",
        "sp['Cold']=fuzz.trimf(sp.universe,[18,18,21])\n",
        "sp['cool']=fuzz.trimf(sp.universe,[18,21,24])\n",
        "sp['Normal']=fuzz.trimf(sp.universe,[21,24,27])\n",
        "sp['Hot']=fuzz.trimf(sp.universe,[24,27,27])\n",
        "val_sensor['Freeze']=fuzz.trimf(val_sensor.universe,[-5,-5,31])\n",
        "val_sensor['Cold']=fuzz.trimf(val_sensor.universe,[-5,31,67])\n",
        "val_sensor['Hot']=fuzz.trimf(val_sensor.universe,[31,67,105])\n",
        "val_sensor['Boiling']=fuzz.trimf(val_sensor.universe,[67,105,105])\n",
        "pwm['Lowest']=fuzz.trimf(pwm.universe,[0,0,85])\n",
        "pwm['Medium']=fuzz.trimf(pwm.universe,[0,85,170])\n",
        "pwm['Medium_fast']=fuzz.trimf(pwm.universe,[85,170,255])\n",
        "pwm['Fastest']=fuzz.trimf(pwm.universe,[170,255,255])\n",
        "hz['Min']=fuzz.trimf(hz.universe,[0,0,20])\n",
        "hz['Medium']=fuzz.trimf(hz.universe,[0,20,40])\n",
        "hz['more_medium']=fuzz.trimf(hz.universe,[20,40,60])\n",
        "hz['Max']=fuzz.trimf(hz.universe,[40,60,60])"
      ],
      "metadata": {
        "id": "d6i6tlrD2HPI"
      },
      "execution_count": null,
      "outputs": []
    },
    {
      "cell_type": "code",
      "source": [
        "rule1=ctrl.Rule(sp['Cold']& val_sensor['Freeze'], pwm['Lowest'] )# hz['Min']) \n",
        "rule2=ctrl.Rule(sp['Cold']& val_sensor['Cold'], pwm['Lowest'] )#& hz['Min'])\n",
        "rule3=ctrl.Rule(sp['Cold']& val_sensor['Hot'], pwm['Medium_fast'])# & hz['more_medium'])\n",
        "rule4=ctrl.Rule(sp['Cold']& val_sensor['Boiling'], pwm['Fastest'] )#& hz['Max'])\n",
        "\n",
        "rule5=ctrl.Rule(sp['cool']& val_sensor['Freeze'], pwm['Lowest'])# & hz['Min'])\n",
        "rule6=ctrl.Rule(sp['cool']& val_sensor['Cold'], pwm['Medium'])# & hz['Medium'])\n",
        "rule7=ctrl.Rule(sp['cool']& val_sensor['Hot'], pwm['Medium_fast'])# & hz['more_medium'])\n",
        "rule8=ctrl.Rule(sp['cool']& val_sensor['Boiling'], pwm['Fastest'])# & hz['Max'])\n",
        "\n",
        "rule9=ctrl.Rule(sp['Normal']& val_sensor['Freeze'], pwm['Medium'] )#& hz['Medium'])\n",
        "rule10=ctrl.Rule(sp['Normal']& val_sensor['Cold'], pwm['Lowest'])# & hz['Min'])\n",
        "rule11=ctrl.Rule(sp['Normal']& val_sensor['Hot'], pwm['Medium_fast'])# & hz['more_medium'])\n",
        "rule12=ctrl.Rule(sp['Normal']& val_sensor['Boiling'], pwm['Medium_fast'])# & hz['more_medium'])\n",
        "\n",
        "rule13=ctrl.Rule(sp['Hot']& val_sensor['Freeze'], pwm['Lowest'])# & hz['Min'])\n",
        "rule14=ctrl.Rule(sp['Hot']& val_sensor['Cold'], pwm['Lowest'])# & hz['Min'])\n",
        "rule15=ctrl.Rule(sp['Hot']& val_sensor['Hot'], pwm['Medium'])# & hz['Medium'])\n",
        "rule16=ctrl.Rule(sp['Hot']& val_sensor['Boiling'], pwm['Medium'])# & hz['Medium'])"
      ],
      "metadata": {
        "id": "Aq44ZOfA8foB"
      },
      "execution_count": null,
      "outputs": []
    },
    {
      "cell_type": "code",
      "source": [
        "pwm_ctrl=ctrl.ControlSystem([rule1,rule2,rule3,rule4,rule5,rule6,rule7,rule8,rule9,rule10,rule11,rule12,rule13,rule14,rule15,rule16])\n",
        "pwmi=ctrl.ControlSystemSimulation(pwm_ctrl)\n",
        "pwmi.input['sp'] = 27\n",
        "pwmi.input['val_sensor'] = -5\n",
        "pwmi.compute()\n",
        "print(pwmi.output['pwm'])\n",
        "pwm.view(sim=pwmi)"
      ],
      "metadata": {
        "colab": {
          "base_uri": "https://localhost:8080/",
          "height": 298
        },
        "id": "yMKy7a2OASn7",
        "outputId": "38b9e94d-b4a9-4c1a-af19-790e4f21eca0"
      },
      "execution_count": null,
      "outputs": [
        {
          "output_type": "stream",
          "name": "stdout",
          "text": [
            "66.11092217652626\n"
          ]
        },
        {
          "output_type": "display_data",
          "data": {
            "text/plain": [
              "<Figure size 432x288 with 1 Axes>"
            ],
            "image/png": "[encoded data removed]"
          },
          "metadata": {
            "needs_background": "light"
          }
        }
      ]
    },
    {
      "cell_type": "code",
      "source": [
        "left= ctrl.Antecedent(np.arange(18,27,1),'left')\n",
        "cen=ctrl.Antecedent(np.arange(-5,105,1),'cen')\n",
        "rig=ctrl.Antecedent(np.arange(-5,105,1),'cen')\n",
        "lc=ctrl.Consequent(np.arange(0,255,1),'lc')\n",
        "rc=ctrl.Consequent(np.arange(0,255,1),'rc')\n",
        "pwm=ctrl.Consequent(np.arange(0,255,1),'pwm')\n",
        "\n",
        "left['Nl']=fuzz.trimf(left.universe,[0,0,0.75])\n",
        "left['Ml']=fuzz.trimf(left.universe,[0,0.75,1.5])\n",
        "left['Fl']=fuzz.trimf(left.universe,[0.75,1.5,1.5])\n",
        "\n",
        "cen['Nc']=fuzz.trimf(cen.universe,[0,0,0.75])\n",
        "cen['Mc']=fuzz.trimf(cen.universe,[0,0.75,1.5])\n",
        "cen['Fc']=fuzz.trimf(cen.universe,[0.75,1.5,1.5])\n",
        "\n",
        "rig['Nr']=fuzz.trimf(rig.universe,[0,0,0.75])\n",
        "rig['Mr']=fuzz.trimf(rig.universe,[0,0.75,1.5])\n",
        "rig['Fr']=fuzz.trimf(rig.universe,[0.75,1.5,1.5])\n",
        "\n",
        "lc['Sl']=fuzz.trimf(lc.universe,[0,0,45])\n",
        "lc['Nl']=fuzz.trimf(lc.universe,[0,45,90])\n",
        "lc['Bl']=fuzz.trimf(lc.universe,[45,90,90])\n",
        "\n",
        "rc['Sr']=fuzz.trimf(rc.universe,[0,0,45])\n",
        "rc['Nr']=fuzz.trimf(rc.universe,[0,45,90])\n",
        "rc['Br']=fuzz.trimf(rc.universe,[45,90,90])\n",
        "\n",
        "pwm['L1']=fuzz.trimf(pwm.universe,[0,0,177])\n",
        "pwm['M1']=fuzz.trimf(pwm.universe,[0,177,255])\n",
        "pwm['H1']=fuzz.trimf(pwm.universe,[177,255,255])\n",
        "\n"
      ],
      "metadata": {
        "id": "XC-p4SwoDFCW"
      },
      "execution_count": null,
      "outputs": []
    },
    {
      "cell_type": "code",
      "source": [
        "#lc\n",
        "rule1=ctrl.Rule(left['Nl']&cen['Nc'], pwm['L1'])\n",
        "rule1=ctrl.Rule(left['Nl']&cen['Mc'], pwm['M1'])\n",
        "rule1=ctrl.Rule(left['Nl']&cen['Fc'], pwm['L1'])\n",
        "\n",
        "rule1=ctrl.Rule(left['Ml']&cen['Nl'], pwm['L1'])\n",
        "rule1=ctrl.Rule(left['Ml']&cen['Mc'], pwm['L1'])\n",
        "rule1=ctrl.Rule(left['Ml']&cen['Fc'], pwm['L1'])\n",
        "\n",
        "rule1=ctrl.Rule(left['Fl']&cen['Nl'], pwm['L1'])\n",
        "rule1=ctrl.Rule(left['Fl']&cen['Mc'], pwm['L1'])\n",
        "rule1=ctrl.Rule(left['Fl']&cen['Fc'], pwm['L1'])"
      ],
      "metadata": {
        "id": "75SKof2fUDW6"
      },
      "execution_count": null,
      "outputs": []
    }
  ]
}